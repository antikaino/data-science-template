{
 "cells": [
  {
   "cell_type": "markdown",
   "id": "0301c0cd",
   "metadata": {},
   "source": [
    "<h1 style=\"color:#8C001A\"> Data science template </h1> \n",
    "\n",
    "Aino Antikainen"
   ]
  },
  {
   "cell_type": "markdown",
   "id": "f1a5671d",
   "metadata": {},
   "source": [
    "### Introduction\n",
    "\n",
    "\n",
    "This data science template was created as a school project for the university course 'Introduction to Data Science' during the Spring of 2022 at Tampere University. It covers various stages of data science, including collecting and reading data, processing and cleansing the data to prepare it for a learning algorithm, and finally, natural language processing and training as well as testing two different algorithms. \n",
    "\n",
    "This data science template is about a dataset containing information about different wines - their origins, description, reviews and points. The dataset was found [here](https://www.kaggle.com/datasets/zynicide/wine-reviews). \n",
    "\n",
    "This project focuses on two machine learning models and questions regarding them:\n",
    "- Is it possible to predict the points and the ranking of the wine based on the description of the wine using latural language processing?\n",
    "- Is it possible to predict the points of a wine based on the other charasteristics of the wine? \n",
    "\n",
    "This tamplate includes theory, comments and coding examples as well as external sources used to deepen the undestanding of the topic."
   ]
  },
  {
   "cell_type": "markdown",
   "id": "08a73b4e",
   "metadata": {},
   "source": [
    "### Import the necessary Python libraries\n",
    "\n",
    "Importing the Python libraries that are necessary for this data science template."
   ]
  },
  {
   "cell_type": "code",
   "execution_count": 1,
   "id": "3809c5a2",
   "metadata": {
    "tags": []
   },
   "outputs": [],
   "source": [
    "import pandas as pd\n",
    "import numpy as np\n",
    "import re\n",
    "\n",
    "# natural language tool kit for processing natural language\n",
    "import nltk\n",
    "from nltk.corpus import stopwords\n",
    "#nltk.download('stopwords')\n",
    "from nltk.stem import PorterStemmer\n",
    "\n",
    "# Sckikit-learn (sklearn) is useful for machine learning tasks\n",
    "from sklearn import preprocessing\n",
    "from sklearn.feature_extraction.text import TfidfVectorizer\n",
    "from sklearn.model_selection import train_test_split\n",
    "from sklearn.linear_model import LinearRegression\n",
    "from sklearn.ensemble import RandomForestRegressor\n",
    "from sklearn.metrics import f1_score\n",
    "from sklearn.metrics import mean_squared_error\n",
    "\n",
    "# these are for visualizations\n",
    "import seaborn as sns\n",
    "import matplotlib.pyplot as plt"
   ]
  },
  {
   "cell_type": "markdown",
   "id": "da9846ef",
   "metadata": {},
   "source": [
    "### Reading and familiarizing with the data"
   ]
  },
  {
   "cell_type": "markdown",
   "id": "0de20eee",
   "metadata": {},
   "source": [
    "The dataset chosen for this project contains information and reviews about different wines (source: https://www.kaggle.com/datasets/zynicide/wine-reviews). The data is originally scarepd from [WineEnthusiast](https://www.winemag.com/?s=&drink_type=wine) website. \n",
    "The file is saved on my device as 'winemag-data_first150k.csv'. \n",
    "\n",
    "Since the dataset is big and contains a very large number of rows, I have chosen to read only 10 000 rows of the data for this project. The wines are listed in an order based on their points from highest to low, and therefore the first 10 000 rows would only contain the best 10 000 wines of the dataset. Wanting some deviation for the wine qualities, I will read 10 000 random rows from the dataset.\n",
    "\n",
    "Data is being saved as a [DataFrame](https://pandas.pydata.org/pandas-docs/stable/reference/api/pandas.DataFrame.html) structure from Pandas library. DataFrame (df) is a two-dimensional, labeled data structure that is good for data analysis, for instance. It consists of rows and columnns."
   ]
  },
  {
   "cell_type": "code",
   "execution_count": 2,
   "id": "bdfd9586-9305-4d52-8607-d7a30f0b3497",
   "metadata": {
    "tags": []
   },
   "outputs": [],
   "source": [
    "data = pd.read_csv('winemag-data_first150k.csv').sample(n=10000, random_state=42)"
   ]
  },
  {
   "cell_type": "markdown",
   "id": "328744e0",
   "metadata": {},
   "source": [
    "Data could also be read straight from a website without having to save the file on your device. The code for reading a csv file from a website can be seen below:"
   ]
  },
  {
   "cell_type": "markdown",
   "id": "96672bac",
   "metadata": {},
   "source": [
    "link = 'link to a website' \n",
    "\n",
    "data = pd.read_csv(link)"
   ]
  },
  {
   "cell_type": "markdown",
   "id": "40fcd6aa-770a-4eff-a785-98cc8c1b2cd4",
   "metadata": {},
   "source": [
    "Now, let's have a look at the data. The function head() prints the first five rows of the data, so that it is easy to have a first look at the structure of the dataset."
   ]
  },
  {
   "cell_type": "code",
   "execution_count": 3,
   "id": "c1dc67c9",
   "metadata": {
    "tags": []
   },
   "outputs": [
    {
     "data": {
      "text/html": [
       "<div>\n",
       "<style scoped>\n",
       "    .dataframe tbody tr th:only-of-type {\n",
       "        vertical-align: middle;\n",
       "    }\n",
       "\n",
       "    .dataframe tbody tr th {\n",
       "        vertical-align: top;\n",
       "    }\n",
       "\n",
       "    .dataframe thead th {\n",
       "        text-align: right;\n",
       "    }\n",
       "</style>\n",
       "<table border=\"1\" class=\"dataframe\">\n",
       "  <thead>\n",
       "    <tr style=\"text-align: right;\">\n",
       "      <th></th>\n",
       "      <th>Unnamed: 0</th>\n",
       "      <th>country</th>\n",
       "      <th>description</th>\n",
       "      <th>designation</th>\n",
       "      <th>points</th>\n",
       "      <th>price</th>\n",
       "      <th>province</th>\n",
       "      <th>region_1</th>\n",
       "      <th>region_2</th>\n",
       "      <th>variety</th>\n",
       "      <th>winery</th>\n",
       "    </tr>\n",
       "  </thead>\n",
       "  <tbody>\n",
       "    <tr>\n",
       "      <th>82957</th>\n",
       "      <td>82957</td>\n",
       "      <td>Argentina</td>\n",
       "      <td>A cool cherry aroma and a mild, creamy paste n...</td>\n",
       "      <td>Colección</td>\n",
       "      <td>84</td>\n",
       "      <td>10.0</td>\n",
       "      <td>Mendoza Province</td>\n",
       "      <td>Mendoza</td>\n",
       "      <td>NaN</td>\n",
       "      <td>Malbec</td>\n",
       "      <td>Finca Los Maza</td>\n",
       "    </tr>\n",
       "    <tr>\n",
       "      <th>60768</th>\n",
       "      <td>60768</td>\n",
       "      <td>Germany</td>\n",
       "      <td>This lightweight Pinot could use a larger help...</td>\n",
       "      <td>NaN</td>\n",
       "      <td>81</td>\n",
       "      <td>18.0</td>\n",
       "      <td>Baden</td>\n",
       "      <td>NaN</td>\n",
       "      <td>NaN</td>\n",
       "      <td>Pinot Noir</td>\n",
       "      <td>Fischer</td>\n",
       "    </tr>\n",
       "    <tr>\n",
       "      <th>63047</th>\n",
       "      <td>63047</td>\n",
       "      <td>US</td>\n",
       "      <td>Pure Syrah from a great lineup of vineyards. I...</td>\n",
       "      <td>NaN</td>\n",
       "      <td>93</td>\n",
       "      <td>42.0</td>\n",
       "      <td>Washington</td>\n",
       "      <td>Columbia Valley (WA)</td>\n",
       "      <td>Columbia Valley</td>\n",
       "      <td>Syrah</td>\n",
       "      <td>Basel Cellars</td>\n",
       "    </tr>\n",
       "    <tr>\n",
       "      <th>71004</th>\n",
       "      <td>71004</td>\n",
       "      <td>Chile</td>\n",
       "      <td>Heavy aromas of horse stable and compost give ...</td>\n",
       "      <td>Tribute</td>\n",
       "      <td>81</td>\n",
       "      <td>17.0</td>\n",
       "      <td>Colchagua Valley</td>\n",
       "      <td>NaN</td>\n",
       "      <td>NaN</td>\n",
       "      <td>Shiraz</td>\n",
       "      <td>Caliterra</td>\n",
       "    </tr>\n",
       "    <tr>\n",
       "      <th>78169</th>\n",
       "      <td>78169</td>\n",
       "      <td>US</td>\n",
       "      <td>The is dry and well balanced, with red licoric...</td>\n",
       "      <td>Reserve</td>\n",
       "      <td>88</td>\n",
       "      <td>35.0</td>\n",
       "      <td>California</td>\n",
       "      <td>Paso Robles</td>\n",
       "      <td>Central Coast</td>\n",
       "      <td>Pinot Noir</td>\n",
       "      <td>Cerro Prieto</td>\n",
       "    </tr>\n",
       "  </tbody>\n",
       "</table>\n",
       "</div>"
      ],
      "text/plain": [
       "       Unnamed: 0    country  \\\n",
       "82957       82957  Argentina   \n",
       "60768       60768    Germany   \n",
       "63047       63047         US   \n",
       "71004       71004      Chile   \n",
       "78169       78169         US   \n",
       "\n",
       "                                             description designation  points  \\\n",
       "82957  A cool cherry aroma and a mild, creamy paste n...   Colección      84   \n",
       "60768  This lightweight Pinot could use a larger help...         NaN      81   \n",
       "63047  Pure Syrah from a great lineup of vineyards. I...         NaN      93   \n",
       "71004  Heavy aromas of horse stable and compost give ...     Tribute      81   \n",
       "78169  The is dry and well balanced, with red licoric...     Reserve      88   \n",
       "\n",
       "       price          province              region_1         region_2  \\\n",
       "82957   10.0  Mendoza Province               Mendoza              NaN   \n",
       "60768   18.0             Baden                   NaN              NaN   \n",
       "63047   42.0        Washington  Columbia Valley (WA)  Columbia Valley   \n",
       "71004   17.0  Colchagua Valley                   NaN              NaN   \n",
       "78169   35.0        California           Paso Robles    Central Coast   \n",
       "\n",
       "          variety          winery  \n",
       "82957      Malbec  Finca Los Maza  \n",
       "60768  Pinot Noir         Fischer  \n",
       "63047       Syrah   Basel Cellars  \n",
       "71004      Shiraz       Caliterra  \n",
       "78169  Pinot Noir    Cerro Prieto  "
      ]
     },
     "execution_count": 3,
     "metadata": {},
     "output_type": "execute_result"
    }
   ],
   "source": [
    "data.head()"
   ]
  },
  {
   "cell_type": "markdown",
   "id": "fa9bf020",
   "metadata": {},
   "source": [
    "Data consists of 11 columns. The first one is the label that can be used to identify the wine. The next columns decribe the the wine as following: country, description, designation, points on a scale from 1 to 100, price, province, region 1 and 2, variety and winery. Region 1 describes the wine growing area, and region 2 describes a more specific region within an area, if it has been named for a spesific wine.\n",
    "\n",
    "Next step is to have a look at the numerical values (points and price of the wines) of the dataset. The frequency of other than numerical values can be figured out with a unique() function from Pandas library. "
   ]
  },
  {
   "cell_type": "code",
   "execution_count": 4,
   "id": "3f382a00",
   "metadata": {
    "tags": []
   },
   "outputs": [
    {
     "name": "stdout",
     "output_type": "stream",
     "text": [
      "The lowest score of a wine is 80 points.\n",
      "The highest score of a wine is 100 points.\n",
      "The average score of all the wines is 87.86 points.\n",
      "\n",
      "The cheapest wine costs 4.0 $ for a bottle.\n",
      "The most expensive wine costs 1400.0 $ for a bottle.\n",
      "The average price is 33.30 $ for a bottle.\n"
     ]
    }
   ],
   "source": [
    "print('The lowest score of a wine is', data['points'].min(), 'points.')\n",
    "print('The highest score of a wine is', data['points'].max(), 'points.')\n",
    "print('The average score of all the wines is', '{:.2f}'.format(data['points'].mean()), 'points.')\n",
    "print()\n",
    "print('The cheapest wine costs', data['price'].min(), '$ for a bottle.')\n",
    "print('The most expensive wine costs', data['price'].max(), '$ for a bottle.')\n",
    "print('The average price is', '{:.2f}'.format(data['price'].mean()), '$ for a bottle.')"
   ]
  },
  {
   "cell_type": "code",
   "execution_count": 6,
   "id": "b21bf892",
   "metadata": {
    "tags": []
   },
   "outputs": [
    {
     "name": "stdout",
     "output_type": "stream",
     "text": [
      "The data consists of 311 different varieties of grapes, and there are wines from a total of 35 countries and 253 different provices or states.\n"
     ]
    }
   ],
   "source": [
    "print('The data consists of', len(data['variety'].str.upper().unique()), 'different varieties of grapes, and there are wines from a total of',\n",
    "      len(data['country'].str.upper().unique()), 'countries and', len(data['province'].str.upper().unique()), 'different provices or states.')"
   ]
  },
  {
   "cell_type": "markdown",
   "id": "9c5d078a",
   "metadata": {},
   "source": [
    "Unique() function distinguishes identical strings if one of them has uppercase letters (for example, 'Apple' and 'apple' are considered different strings). Therefore, the values of the dataset are being counted after converting all letters to uppercase, just to make sure there will not be any unintended duplicates."
   ]
  },
  {
   "cell_type": "markdown",
   "id": "8887a9ee",
   "metadata": {},
   "source": [
    "### Data cleansing: missing values\n",
    "\n",
    "Missing values can be problematic in data analysis and machine learning models, since it might lead to biased interpretations or inaccurate conclusions. Therefore, it is important to check if there are missing values in our data, and if yes, handle them with a correct technique.\n",
    "\n",
    "First, the missing values in different columns are counted."
   ]
  },
  {
   "cell_type": "code",
   "execution_count": 7,
   "id": "f21998d2",
   "metadata": {
    "tags": []
   },
   "outputs": [
    {
     "data": {
      "text/plain": [
       "Unnamed: 0        0\n",
       "country           0\n",
       "description       0\n",
       "designation    3050\n",
       "points            0\n",
       "price           894\n",
       "province          0\n",
       "region_1       1690\n",
       "region_2       5960\n",
       "variety           0\n",
       "winery            0\n",
       "dtype: int64"
      ]
     },
     "execution_count": 7,
     "metadata": {},
     "output_type": "execute_result"
    }
   ],
   "source": [
    "missing_values_count = data.isnull().sum()\n",
    "missing_values_count"
   ]
  },
  {
   "cell_type": "markdown",
   "id": "7866369e",
   "metadata": {},
   "source": [
    "It can be seen that there are missing values in four of the columns. \n",
    "The numeric missing values are substituted with 0, and string values are substitued as 'unknown'. \n",
    "\n",
    "All the values should eventually be non-null. The values can be checked with a function info()."
   ]
  },
  {
   "cell_type": "code",
   "execution_count": 8,
   "id": "0804ae09",
   "metadata": {
    "tags": []
   },
   "outputs": [],
   "source": [
    "data['designation'].fillna('unknown', inplace=True)\n",
    "data['region_1'].fillna('unknown', inplace=True)\n",
    "data['region_2'].fillna('unknown', inplace=True)\n",
    "data['price'].fillna(0, inplace=True)"
   ]
  },
  {
   "cell_type": "code",
   "execution_count": 9,
   "id": "e14604d2",
   "metadata": {
    "tags": []
   },
   "outputs": [
    {
     "name": "stdout",
     "output_type": "stream",
     "text": [
      "<class 'pandas.core.frame.DataFrame'>\n",
      "Index: 10000 entries, 82957 to 59643\n",
      "Data columns (total 11 columns):\n",
      " #   Column       Non-Null Count  Dtype  \n",
      "---  ------       --------------  -----  \n",
      " 0   Unnamed: 0   10000 non-null  int64  \n",
      " 1   country      10000 non-null  object \n",
      " 2   description  10000 non-null  object \n",
      " 3   designation  10000 non-null  object \n",
      " 4   points       10000 non-null  int64  \n",
      " 5   price        10000 non-null  float64\n",
      " 6   province     10000 non-null  object \n",
      " 7   region_1     10000 non-null  object \n",
      " 8   region_2     10000 non-null  object \n",
      " 9   variety      10000 non-null  object \n",
      " 10  winery       10000 non-null  object \n",
      "dtypes: float64(1), int64(2), object(8)\n",
      "memory usage: 937.5+ KB\n"
     ]
    }
   ],
   "source": [
    "data.info()"
   ]
  },
  {
   "cell_type": "markdown",
   "id": "67b95088",
   "metadata": {},
   "source": [
    "## First machine learning model: Predicting the points the wine based on description"
   ]
  },
  {
   "cell_type": "markdown",
   "id": "87808b58",
   "metadata": {},
   "source": [
    "### Data preprocessing"
   ]
  },
  {
   "cell_type": "markdown",
   "id": "b3b6355f",
   "metadata": {},
   "source": [
    "This machine learning model is being trained with text data, the descriptions of the wines. In order to utilize text data for the machine learning model, the data has to be preprocessed a little. All the letters are converted into lowercase as well as special characters are being removed. \n",
    "All the sentences are also normalized with a [Porter Stemmer](https://pythonprogramming.net/stemming-nltk-tutorial/) method. This will normalize and simplify different variations of words to their root form.\n",
    "\n",
    "Descriptions is a list that will contain all the descriptions (strings) of wines after preporcesssing the data."
   ]
  },
  {
   "cell_type": "markdown",
   "id": "096def78",
   "metadata": {},
   "source": [
    "All [stopwords](https://www.geeksforgeeks.org/removing-stop-words-nltk-python/) will also be removed from the descriptions. They are words that are useless considering the machine learning algorithm. With NLTK (Natural Language Tool Kit) the stopwords can be found in 16 different languages. \n",
    "With a code below we can print all the stopeords in English. "
   ]
  },
  {
   "cell_type": "code",
   "execution_count": 10,
   "id": "38df2828",
   "metadata": {
    "tags": []
   },
   "outputs": [
    {
     "name": "stdout",
     "output_type": "stream",
     "text": [
      "['i', 'me', 'my', 'myself', 'we', 'our', 'ours', 'ourselves', 'you', \"you're\", \"you've\", \"you'll\", \"you'd\", 'your', 'yours', 'yourself', 'yourselves', 'he', 'him', 'his', 'himself', 'she', \"she's\", 'her', 'hers', 'herself', 'it', \"it's\", 'its', 'itself', 'they', 'them', 'their', 'theirs', 'themselves', 'what', 'which', 'who', 'whom', 'this', 'that', \"that'll\", 'these', 'those', 'am', 'is', 'are', 'was', 'were', 'be', 'been', 'being', 'have', 'has', 'had', 'having', 'do', 'does', 'did', 'doing', 'a', 'an', 'the', 'and', 'but', 'if', 'or', 'because', 'as', 'until', 'while', 'of', 'at', 'by', 'for', 'with', 'about', 'against', 'between', 'into', 'through', 'during', 'before', 'after', 'above', 'below', 'to', 'from', 'up', 'down', 'in', 'out', 'on', 'off', 'over', 'under', 'again', 'further', 'then', 'once', 'here', 'there', 'when', 'where', 'why', 'how', 'all', 'any', 'both', 'each', 'few', 'more', 'most', 'other', 'some', 'such', 'no', 'nor', 'not', 'only', 'own', 'same', 'so', 'than', 'too', 'very', 's', 't', 'can', 'will', 'just', 'don', \"don't\", 'should', \"should've\", 'now', 'd', 'll', 'm', 'o', 're', 've', 'y', 'ain', 'aren', \"aren't\", 'couldn', \"couldn't\", 'didn', \"didn't\", 'doesn', \"doesn't\", 'hadn', \"hadn't\", 'hasn', \"hasn't\", 'haven', \"haven't\", 'isn', \"isn't\", 'ma', 'mightn', \"mightn't\", 'mustn', \"mustn't\", 'needn', \"needn't\", 'shan', \"shan't\", 'shouldn', \"shouldn't\", 'wasn', \"wasn't\", 'weren', \"weren't\", 'won', \"won't\", 'wouldn', \"wouldn't\"]\n"
     ]
    }
   ],
   "source": [
    " print(stopwords.words('english'))"
   ]
  },
  {
   "cell_type": "code",
   "execution_count": 145,
   "id": "bdc304c6",
   "metadata": {
    "tags": []
   },
   "outputs": [],
   "source": [
    "stopwords = stopwords.words('english')\n",
    "stemmer = PorterStemmer()\n",
    "\n",
    "descriptions = []\n",
    "\n",
    "for description in data['description']:\n",
    "    processed_words = ''\n",
    "    for word in description.split(' '):\n",
    "        # removing special characters\n",
    "        word = re.sub('[^A-Za-z0-9ÄäÖö-]+', '', word)\n",
    "        # conversting all letters to lowercase\n",
    "        word = word.strip().lower()\n",
    "        # converting the words to their root form\n",
    "        word = stemmer.stem(word)\n",
    "        # removing stopwords\n",
    "        if word in stopwords:\n",
    "            word = ''\n",
    "        if word != '':\n",
    "            processed_words = processed_words + ' ' + word\n",
    "    descriptions.append(processed_words)\n",
    "    "
   ]
  },
  {
   "cell_type": "markdown",
   "id": "5a09d25c",
   "metadata": {},
   "source": [
    "Creating a new DataFrame (df1) of three columns: the label of a wine, description - preprocessed strings, and points of the wines. "
   ]
  },
  {
   "cell_type": "code",
   "execution_count": 146,
   "id": "885368e7",
   "metadata": {
    "tags": []
   },
   "outputs": [
    {
     "data": {
      "text/html": [
       "<div>\n",
       "<style scoped>\n",
       "    .dataframe tbody tr th:only-of-type {\n",
       "        vertical-align: middle;\n",
       "    }\n",
       "\n",
       "    .dataframe tbody tr th {\n",
       "        vertical-align: top;\n",
       "    }\n",
       "\n",
       "    .dataframe thead th {\n",
       "        text-align: right;\n",
       "    }\n",
       "</style>\n",
       "<table border=\"1\" class=\"dataframe\">\n",
       "  <thead>\n",
       "    <tr style=\"text-align: right;\">\n",
       "      <th></th>\n",
       "      <th>description</th>\n",
       "      <th>points</th>\n",
       "    </tr>\n",
       "  </thead>\n",
       "  <tbody>\n",
       "    <tr>\n",
       "      <th>82957</th>\n",
       "      <td>cool cherri aroma mild creami past note open ...</td>\n",
       "      <td>84</td>\n",
       "    </tr>\n",
       "    <tr>\n",
       "      <th>60768</th>\n",
       "      <td>thi lightweight pinot could use larger help f...</td>\n",
       "      <td>81</td>\n",
       "    </tr>\n",
       "    <tr>\n",
       "      <th>63047</th>\n",
       "      <td>pure syrah great lineup vineyard thi freez ye...</td>\n",
       "      <td>93</td>\n",
       "    </tr>\n",
       "    <tr>\n",
       "      <th>71004</th>\n",
       "      <td>heavi aroma hors stabl compost give thi wine ...</td>\n",
       "      <td>81</td>\n",
       "    </tr>\n",
       "    <tr>\n",
       "      <th>78169</th>\n",
       "      <td>dri well balanc red licoric red currant cola ...</td>\n",
       "      <td>88</td>\n",
       "    </tr>\n",
       "  </tbody>\n",
       "</table>\n",
       "</div>"
      ],
      "text/plain": [
       "                                             description  points\n",
       "82957   cool cherri aroma mild creami past note open ...      84\n",
       "60768   thi lightweight pinot could use larger help f...      81\n",
       "63047   pure syrah great lineup vineyard thi freez ye...      93\n",
       "71004   heavi aroma hors stabl compost give thi wine ...      81\n",
       "78169   dri well balanc red licoric red currant cola ...      88"
      ]
     },
     "execution_count": 146,
     "metadata": {},
     "output_type": "execute_result"
    }
   ],
   "source": [
    "df1 = pd.DataFrame(\n",
    "    {'description' : descriptions,\n",
    "     'points' : data['points']})\n",
    "\n",
    "df1.head()"
   ]
  },
  {
   "cell_type": "markdown",
   "id": "ca0f5df6",
   "metadata": {},
   "source": [
    "Text data has to be converted into numeric form, such as matrix, in order to utilize it in a machine learning model. I am using a tool called [TF-IDF Vectorizer](https://scikit-learn.org/stable/modules/generated/sklearn.feature_extraction.text.TfidfVectorizer.html#sklearn.feature_extraction.text.TfidfVectorizer), which converts the text data into a matrix based on the frequency and the importance of a term, or a specific word.\n",
    "\n",
    "The matrix is then converted into a NumPy-array with a function toarray(). Another DataFrame (df11) is being created, in order to keep the process more simple, instead of editing the previous DataFrame df1. DataFrame df11 contains TF-IDF values of the wine descriptions, as well as the points of the wines. "
   ]
  },
  {
   "cell_type": "code",
   "execution_count": 148,
   "id": "0a8a7ecf",
   "metadata": {
    "tags": []
   },
   "outputs": [
    {
     "data": {
      "text/html": [
       "<div>\n",
       "<style scoped>\n",
       "    .dataframe tbody tr th:only-of-type {\n",
       "        vertical-align: middle;\n",
       "    }\n",
       "\n",
       "    .dataframe tbody tr th {\n",
       "        vertical-align: top;\n",
       "    }\n",
       "\n",
       "    .dataframe thead th {\n",
       "        text-align: right;\n",
       "    }\n",
       "</style>\n",
       "<table border=\"1\" class=\"dataframe\">\n",
       "  <thead>\n",
       "    <tr style=\"text-align: right;\">\n",
       "      <th></th>\n",
       "      <th>01</th>\n",
       "      <th>02</th>\n",
       "      <th>03</th>\n",
       "      <th>04</th>\n",
       "      <th>05</th>\n",
       "      <th>06</th>\n",
       "      <th>07</th>\n",
       "      <th>08</th>\n",
       "      <th>09</th>\n",
       "      <th>10</th>\n",
       "      <th>...</th>\n",
       "      <th>zinni</th>\n",
       "      <th>zip</th>\n",
       "      <th>zippi</th>\n",
       "      <th>zomi</th>\n",
       "      <th>zone</th>\n",
       "      <th>zonin</th>\n",
       "      <th>zoom</th>\n",
       "      <th>zweigelt</th>\n",
       "      <th>ökzgöz</th>\n",
       "      <th>points</th>\n",
       "    </tr>\n",
       "  </thead>\n",
       "  <tbody>\n",
       "    <tr>\n",
       "      <th>0</th>\n",
       "      <td>0.0</td>\n",
       "      <td>0.0</td>\n",
       "      <td>0.0</td>\n",
       "      <td>0.0</td>\n",
       "      <td>0.0</td>\n",
       "      <td>0.0</td>\n",
       "      <td>0.0</td>\n",
       "      <td>0.0</td>\n",
       "      <td>0.0</td>\n",
       "      <td>0.0</td>\n",
       "      <td>...</td>\n",
       "      <td>0.0</td>\n",
       "      <td>0.0</td>\n",
       "      <td>0.0</td>\n",
       "      <td>0.0</td>\n",
       "      <td>0.0</td>\n",
       "      <td>0.0</td>\n",
       "      <td>0.0</td>\n",
       "      <td>0.0</td>\n",
       "      <td>0.0</td>\n",
       "      <td>84</td>\n",
       "    </tr>\n",
       "    <tr>\n",
       "      <th>1</th>\n",
       "      <td>0.0</td>\n",
       "      <td>0.0</td>\n",
       "      <td>0.0</td>\n",
       "      <td>0.0</td>\n",
       "      <td>0.0</td>\n",
       "      <td>0.0</td>\n",
       "      <td>0.0</td>\n",
       "      <td>0.0</td>\n",
       "      <td>0.0</td>\n",
       "      <td>0.0</td>\n",
       "      <td>...</td>\n",
       "      <td>0.0</td>\n",
       "      <td>0.0</td>\n",
       "      <td>0.0</td>\n",
       "      <td>0.0</td>\n",
       "      <td>0.0</td>\n",
       "      <td>0.0</td>\n",
       "      <td>0.0</td>\n",
       "      <td>0.0</td>\n",
       "      <td>0.0</td>\n",
       "      <td>81</td>\n",
       "    </tr>\n",
       "    <tr>\n",
       "      <th>2</th>\n",
       "      <td>0.0</td>\n",
       "      <td>0.0</td>\n",
       "      <td>0.0</td>\n",
       "      <td>0.0</td>\n",
       "      <td>0.0</td>\n",
       "      <td>0.0</td>\n",
       "      <td>0.0</td>\n",
       "      <td>0.0</td>\n",
       "      <td>0.0</td>\n",
       "      <td>0.0</td>\n",
       "      <td>...</td>\n",
       "      <td>0.0</td>\n",
       "      <td>0.0</td>\n",
       "      <td>0.0</td>\n",
       "      <td>0.0</td>\n",
       "      <td>0.0</td>\n",
       "      <td>0.0</td>\n",
       "      <td>0.0</td>\n",
       "      <td>0.0</td>\n",
       "      <td>0.0</td>\n",
       "      <td>93</td>\n",
       "    </tr>\n",
       "    <tr>\n",
       "      <th>3</th>\n",
       "      <td>0.0</td>\n",
       "      <td>0.0</td>\n",
       "      <td>0.0</td>\n",
       "      <td>0.0</td>\n",
       "      <td>0.0</td>\n",
       "      <td>0.0</td>\n",
       "      <td>0.0</td>\n",
       "      <td>0.0</td>\n",
       "      <td>0.0</td>\n",
       "      <td>0.0</td>\n",
       "      <td>...</td>\n",
       "      <td>0.0</td>\n",
       "      <td>0.0</td>\n",
       "      <td>0.0</td>\n",
       "      <td>0.0</td>\n",
       "      <td>0.0</td>\n",
       "      <td>0.0</td>\n",
       "      <td>0.0</td>\n",
       "      <td>0.0</td>\n",
       "      <td>0.0</td>\n",
       "      <td>81</td>\n",
       "    </tr>\n",
       "    <tr>\n",
       "      <th>4</th>\n",
       "      <td>0.0</td>\n",
       "      <td>0.0</td>\n",
       "      <td>0.0</td>\n",
       "      <td>0.0</td>\n",
       "      <td>0.0</td>\n",
       "      <td>0.0</td>\n",
       "      <td>0.0</td>\n",
       "      <td>0.0</td>\n",
       "      <td>0.0</td>\n",
       "      <td>0.0</td>\n",
       "      <td>...</td>\n",
       "      <td>0.0</td>\n",
       "      <td>0.0</td>\n",
       "      <td>0.0</td>\n",
       "      <td>0.0</td>\n",
       "      <td>0.0</td>\n",
       "      <td>0.0</td>\n",
       "      <td>0.0</td>\n",
       "      <td>0.0</td>\n",
       "      <td>0.0</td>\n",
       "      <td>88</td>\n",
       "    </tr>\n",
       "  </tbody>\n",
       "</table>\n",
       "<p>5 rows × 9757 columns</p>\n",
       "</div>"
      ],
      "text/plain": [
       "    01   02   03   04   05   06   07   08   09   10  ...  zinni  zip  zippi  \\\n",
       "0  0.0  0.0  0.0  0.0  0.0  0.0  0.0  0.0  0.0  0.0  ...    0.0  0.0    0.0   \n",
       "1  0.0  0.0  0.0  0.0  0.0  0.0  0.0  0.0  0.0  0.0  ...    0.0  0.0    0.0   \n",
       "2  0.0  0.0  0.0  0.0  0.0  0.0  0.0  0.0  0.0  0.0  ...    0.0  0.0    0.0   \n",
       "3  0.0  0.0  0.0  0.0  0.0  0.0  0.0  0.0  0.0  0.0  ...    0.0  0.0    0.0   \n",
       "4  0.0  0.0  0.0  0.0  0.0  0.0  0.0  0.0  0.0  0.0  ...    0.0  0.0    0.0   \n",
       "\n",
       "   zomi  zone  zonin  zoom  zweigelt  ökzgöz  points  \n",
       "0   0.0   0.0    0.0   0.0       0.0     0.0      84  \n",
       "1   0.0   0.0    0.0   0.0       0.0     0.0      81  \n",
       "2   0.0   0.0    0.0   0.0       0.0     0.0      93  \n",
       "3   0.0   0.0    0.0   0.0       0.0     0.0      81  \n",
       "4   0.0   0.0    0.0   0.0       0.0     0.0      88  \n",
       "\n",
       "[5 rows x 9757 columns]"
      ]
     },
     "execution_count": 148,
     "metadata": {},
     "output_type": "execute_result"
    }
   ],
   "source": [
    "vectorizer = TfidfVectorizer()\n",
    "\n",
    "vectorized_data = vectorizer.fit_transform(df1['description']).toarray()\n",
    "\n",
    "df11 = pd.DataFrame(vectorized_data, columns=vectorizer.get_feature_names_out())\n",
    "\n",
    "df11 = pd.concat([df11, df1['points'].set_axis(df11.index)], axis=1)\n",
    "df11.head()"
   ]
  },
  {
   "cell_type": "markdown",
   "id": "58d144af",
   "metadata": {},
   "source": [
    "### Machine learning model\n",
    "\n",
    "For training the machine learning model I have chosen to use linear regression.\n",
    "First, the dataset is divided into training and testing data."
   ]
  },
  {
   "cell_type": "code",
   "execution_count": 149,
   "id": "1900fee9",
   "metadata": {
    "tags": []
   },
   "outputs": [],
   "source": [
    "x1 = df11.drop(columns=['points'])\n",
    "y1 = df11['points']\n",
    "\n",
    "x1_train, x1_test, y1_train, y1_test = train_test_split(x1, y1, test_size=0.2, random_state=42)\n",
    "\n",
    "model1 = LinearRegression()\n",
    "model1.fit(x1, y1)\n",
    "\n",
    "y1_pred = model1.predict(x1_test)"
   ]
  },
  {
   "cell_type": "markdown",
   "id": "34d7e927",
   "metadata": {},
   "source": [
    "Next we'll have a look at how many wines with a specific score there are in the data. Big difference between the numbers of the rows means that there will be more training data for wines with a certain score. "
   ]
  },
  {
   "cell_type": "code",
   "execution_count": 151,
   "id": "1065af36",
   "metadata": {
    "tags": []
   },
   "outputs": [
    {
     "data": {
      "text/plain": [
       "<Axes: xlabel='points'>"
      ]
     },
     "execution_count": 151,
     "metadata": {},
     "output_type": "execute_result"
    },
    {
     "data": {
      "image/png": "[encoded data removed]",
      "text/plain": [
       "<Figure size 640x480 with 1 Axes>"
      ]
     },
     "metadata": {},
     "output_type": "display_data"
    }
   ],
   "source": [
    "y1_values = y1_train.value_counts().sort_index()\n",
    "y1_values.plot.bar()"
   ]
  },
  {
   "cell_type": "markdown",
   "id": "67507299",
   "metadata": {},
   "source": [
    "As can be seen above, there is certainly more data about the wines with scores between about 85 and 91. Therefore, the model will probably be better at predicting the points of the wines that have the score arouns these values, than for example the ones with the very best points."
   ]
  },
  {
   "cell_type": "markdown",
   "id": "70af6189",
   "metadata": {},
   "source": [
    "### Testing the model\n",
    "\n",
    "The accuracy of a machine learning model can be tested with a mean squared error value. It measures the average squared differences between the predicted values (y1_pred) and the actual values (y1_test) in a regression problem.\n",
    "\n",
    "A lower MSE value indicates smaller errors as well as a better predictive model."
   ]
  },
  {
   "cell_type": "code",
   "execution_count": 152,
   "id": "61595083",
   "metadata": {
    "tags": []
   },
   "outputs": [
    {
     "name": "stdout",
     "output_type": "stream",
     "text": [
      "The mean squared error value of the first machine learning model is  1.0652505957301246 .\n"
     ]
    }
   ],
   "source": [
    "mse = mean_squared_error(y1_test, y1_pred)\n",
    "print('The mean squared error value of the first machine learning model is ', mse, '.')"
   ]
  },
  {
   "cell_type": "markdown",
   "id": "e66c54ca",
   "metadata": {},
   "source": [
    "## The second machine learning model: Predicting the score of the wine based on other charasteristics"
   ]
  },
  {
   "cell_type": "markdown",
   "id": "445d570d",
   "metadata": {},
   "source": [
    "### Data preprocessing\n",
    "\n",
    "The second machine learning model utilizes other charasteristics of the wine, such as country, region and price, and predicts the score of the wine based on them.\n",
    "\n",
    "The data has to be preprocessed again in a way to convert the strings into numerical values. [LabelEncoder](https://scikit-learn.org/stable/modules/generated/sklearn.preprocessing.LabelEncoder.html) function is being used for this process.\n",
    "\n",
    "To keep the template more simple and clear, another DataFrame df2 is created for the second machine learning model."
   ]
  },
  {
   "cell_type": "code",
   "execution_count": 153,
   "id": "c0c68ccd",
   "metadata": {
    "tags": []
   },
   "outputs": [
    {
     "data": {
      "text/html": [
       "<div>\n",
       "<style scoped>\n",
       "    .dataframe tbody tr th:only-of-type {\n",
       "        vertical-align: middle;\n",
       "    }\n",
       "\n",
       "    .dataframe tbody tr th {\n",
       "        vertical-align: top;\n",
       "    }\n",
       "\n",
       "    .dataframe thead th {\n",
       "        text-align: right;\n",
       "    }\n",
       "</style>\n",
       "<table border=\"1\" class=\"dataframe\">\n",
       "  <thead>\n",
       "    <tr style=\"text-align: right;\">\n",
       "      <th></th>\n",
       "      <th>Unnamed: 0</th>\n",
       "      <th>country</th>\n",
       "      <th>designation</th>\n",
       "      <th>points</th>\n",
       "      <th>price</th>\n",
       "      <th>province</th>\n",
       "      <th>region_1</th>\n",
       "      <th>region_2</th>\n",
       "      <th>variety</th>\n",
       "      <th>winery</th>\n",
       "    </tr>\n",
       "  </thead>\n",
       "  <tbody>\n",
       "    <tr>\n",
       "      <th>82957</th>\n",
       "      <td>82957</td>\n",
       "      <td>0</td>\n",
       "      <td>1010</td>\n",
       "      <td>84</td>\n",
       "      <td>7</td>\n",
       "      <td>122</td>\n",
       "      <td>372</td>\n",
       "      <td>18</td>\n",
       "      <td>121</td>\n",
       "      <td>2014</td>\n",
       "    </tr>\n",
       "    <tr>\n",
       "      <th>60768</th>\n",
       "      <td>60768</td>\n",
       "      <td>12</td>\n",
       "      <td>4904</td>\n",
       "      <td>81</td>\n",
       "      <td>15</td>\n",
       "      <td>15</td>\n",
       "      <td>718</td>\n",
       "      <td>18</td>\n",
       "      <td>195</td>\n",
       "      <td>2030</td>\n",
       "    </tr>\n",
       "    <tr>\n",
       "      <th>63047</th>\n",
       "      <td>63047</td>\n",
       "      <td>33</td>\n",
       "      <td>4904</td>\n",
       "      <td>93</td>\n",
       "      <td>39</td>\n",
       "      <td>243</td>\n",
       "      <td>164</td>\n",
       "      <td>3</td>\n",
       "      <td>250</td>\n",
       "      <td>342</td>\n",
       "    </tr>\n",
       "    <tr>\n",
       "      <th>71004</th>\n",
       "      <td>71004</td>\n",
       "      <td>6</td>\n",
       "      <td>4479</td>\n",
       "      <td>81</td>\n",
       "      <td>14</td>\n",
       "      <td>44</td>\n",
       "      <td>718</td>\n",
       "      <td>18</td>\n",
       "      <td>236</td>\n",
       "      <td>658</td>\n",
       "    </tr>\n",
       "    <tr>\n",
       "      <th>78169</th>\n",
       "      <td>78169</td>\n",
       "      <td>33</td>\n",
       "      <td>3566</td>\n",
       "      <td>88</td>\n",
       "      <td>32</td>\n",
       "      <td>30</td>\n",
       "      <td>464</td>\n",
       "      <td>1</td>\n",
       "      <td>195</td>\n",
       "      <td>878</td>\n",
       "    </tr>\n",
       "  </tbody>\n",
       "</table>\n",
       "</div>"
      ],
      "text/plain": [
       "       Unnamed: 0  country  designation  points  price  province  region_1  \\\n",
       "82957       82957        0         1010      84      7       122       372   \n",
       "60768       60768       12         4904      81     15        15       718   \n",
       "63047       63047       33         4904      93     39       243       164   \n",
       "71004       71004        6         4479      81     14        44       718   \n",
       "78169       78169       33         3566      88     32        30       464   \n",
       "\n",
       "       region_2  variety  winery  \n",
       "82957        18      121    2014  \n",
       "60768        18      195    2030  \n",
       "63047         3      250     342  \n",
       "71004        18      236     658  \n",
       "78169         1      195     878  "
      ]
     },
     "execution_count": 153,
     "metadata": {},
     "output_type": "execute_result"
    }
   ],
   "source": [
    "df2 = data.copy()\n",
    "\n",
    "df2 = df2.drop('description', axis=1)\n",
    "\n",
    "le = preprocessing.LabelEncoder()\n",
    "\n",
    "str_columns = df2[['country', 'designation', 'price', 'province', 'region_1', 'region_2', 'variety', 'winery']]\n",
    "\n",
    "for column in str_columns:\n",
    "    value = le.fit_transform(str_columns[column])\n",
    "    df2[column] = value\n",
    "    \n",
    "    \n",
    "# chceking that the values are numerical, as wanted\n",
    "df2.head()"
   ]
  },
  {
   "cell_type": "markdown",
   "id": "f2179466",
   "metadata": {},
   "source": [
    "Now that all the values in a datset are numeric, a learning model can be executed. For this model I have chosen a process called Random forest regression. DataFrame is first divided into two, training and testing data."
   ]
  },
  {
   "cell_type": "code",
   "execution_count": 154,
   "id": "fee61daa",
   "metadata": {
    "tags": []
   },
   "outputs": [],
   "source": [
    "x2 = df2.drop(columns=['points'])\n",
    "y2 = df2['points']\n",
    "\n",
    "x2_train, x2_test, y2_train, y2_test = train_test_split(x2, y2, test_size=0.2, random_state=42)\n",
    "\n",
    "\n",
    "model2 = RandomForestRegressor(n_estimators = 100, random_state = 42)\n",
    "model2.fit(x2_train, y2_train)\n",
    "\n",
    "y2_pred = model2.predict(x2_test)\n"
   ]
  },
  {
   "cell_type": "markdown",
   "id": "e52c1d36-98ce-49fb-8005-a8870ec054a9",
   "metadata": {},
   "source": [
    "The model is tested again, and the amount of different predicted scores of the wines are also visualized in a diagram."
   ]
  },
  {
   "cell_type": "code",
   "execution_count": 155,
   "id": "9d2b6102",
   "metadata": {
    "tags": []
   },
   "outputs": [
    {
     "name": "stdout",
     "output_type": "stream",
     "text": [
      "The average score for wines in a original dataset is 87.86 .\n",
      "The average score of the predictions of the points is 87.82 .\n"
     ]
    },
    {
     "data": {
      "text/plain": [
       "<Axes: xlabel='points'>"
      ]
     },
     "execution_count": 155,
     "metadata": {},
     "output_type": "execute_result"
    },
    {
     "data": {
      "image/png": "[encoded data removed]",
      "text/plain": [
       "<Figure size 640x480 with 1 Axes>"
      ]
     },
     "metadata": {},
     "output_type": "display_data"
    }
   ],
   "source": [
    "print('The average score for wines in a original dataset is', '{:.2f}'.format(data['points'].mean()), '.')\n",
    "print('The average score of the predictions of the points is', '{:.2f}'.format(y2_pred.mean()), '.')\n",
    "\n",
    "y1_pred_values = y1_test.value_counts().sort_index()\n",
    "y1_pred_values.plot.bar()"
   ]
  },
  {
   "cell_type": "markdown",
   "id": "059fbbc0",
   "metadata": {},
   "source": [
    "The diagram above shows the amount of different predicted scores. The data contained more wines with points between 85 and 91, and therefore it makes sense for the frequency of the predictions to also be higher around those values. \n",
    "\n",
    "The accuracy of this model is also tested with the mean squared error value. \n",
    "\n",
    "Also, the accuracy can be tested with checking how many of the predictions were exactly correct with the original data."
   ]
  },
  {
   "cell_type": "code",
   "execution_count": 157,
   "id": "dfe76c8d",
   "metadata": {
    "tags": []
   },
   "outputs": [
    {
     "name": "stdout",
     "output_type": "stream",
     "text": [
      "The mean squared error value of the second model is 5.9291222 .\n"
     ]
    }
   ],
   "source": [
    "mse = mean_squared_error(y2_test, y2_pred)\n",
    "\n",
    "print('The mean squared error value of the second model is', mse, '.')"
   ]
  },
  {
   "cell_type": "markdown",
   "id": "6b4641b8-31f8-42e7-8c6e-39ff8c5ca157",
   "metadata": {},
   "source": [
    "In order to compare the points with the original data, the predicted points have to be rounded and converted into the same data type as in the original data. \n",
    "Rounding the values will of course make a little difference in the accuracy, but it will give an approximate idea of the amount of predictions that were correct."
   ]
  },
  {
   "cell_type": "code",
   "execution_count": 158,
   "id": "8c20eb3e",
   "metadata": {
    "tags": []
   },
   "outputs": [],
   "source": [
    "y2_pred_rounded = np.array(np.round(y2_pred, 0)).astype(np.int64)"
   ]
  },
  {
   "cell_type": "code",
   "execution_count": 159,
   "id": "015fa1f9",
   "metadata": {
    "tags": []
   },
   "outputs": [
    {
     "name": "stdout",
     "output_type": "stream",
     "text": [
      "The procentage of predictions that were correct: 16.95% .\n"
     ]
    }
   ],
   "source": [
    "accuracy = np.sum(y2_pred_rounded == y2_test) / len(y2_test)\n",
    "print(\"The procentage of predictions that were correct: %.2f%%\" % (accuracy * 100.0), '.')"
   ]
  },
  {
   "cell_type": "markdown",
   "id": "87d6cc20",
   "metadata": {},
   "source": [
    "### Conclusions and comments\n",
    "\n",
    "The mse values of the machine learning models are 1.0652505957301246 for the first model and 5.9550011 for the second one. A small mse value usually indicates small errors and therefore a good accuracy, but in order to understand the values and their meaning better, we would have to compare them to other mse values of other learning models. Next step could be, for instance, to try out different training models for the same data and see what results they give. It would also be interesting to see, what kind of results we would get with using the whole 150 000 rows of the dataset.\n",
    "\n",
    "\n",
    "Even though the machine learning models may not be perfect and very accurate, this project succesfully shows different data analysis skills and techniques I have achieved during this course. The main goal of this project was to go through different stages of a data science process. Maybe the choice of the problems, the dataset or the machine learning processes could have been more succesful. Furthermore, this project is a good template for further data science tasks, since the steps can be very similar in various projects. "
   ]
  }
 ],
 "metadata": {
  "kernelspec": {
   "display_name": "Python 3 (ipykernel)",
   "language": "python",
   "name": "python3"
  },
  "language_info": {
   "codemirror_mode": {
    "name": "ipython",
    "version": 3
   },
   "file_extension": ".py",
   "mimetype": "text/x-python",
   "name": "python",
   "nbconvert_exporter": "python",
   "pygments_lexer": "ipython3",
   "version": "3.11.5"
  }
 },
 "nbformat": 4,
 "nbformat_minor": 5
}
